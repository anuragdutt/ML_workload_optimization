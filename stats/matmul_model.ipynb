{
 "cells": [
  {
   "cell_type": "code",
   "execution_count": 1,
   "id": "16b3404d",
   "metadata": {},
   "outputs": [],
   "source": [
    "import os\n",
    "import sys\n",
    "import torch"
   ]
  },
  {
   "cell_type": "code",
   "execution_count": 2,
   "id": "9fa67211",
   "metadata": {},
   "outputs": [],
   "source": [
    "class MatrixMultiplier(torch.nn.Module):\n",
    "    def __init__(self):\n",
    "        super(MatrixMultiplier, self).__init__()\n",
    "    \n",
    "    def forward(self, input1, input2):\n",
    "        return torch.matmul(input1, input2)"
   ]
  },
  {
   "cell_type": "code",
   "execution_count": null,
   "id": "9d2e77d4",
   "metadata": {},
   "outputs": [],
   "source": [
    "class MatrixMultiplierExplicit(torch.nn.Module):\n",
    "    def __init__(self):\n",
    "        super(MatrixMultiplier, self).__init__()\n",
    "    \n",
    "    def forward(self, input1, input2):\n",
    "        return torch.matmul(input1, input2)"
   ]
  },
  {
   "cell_type": "code",
   "execution_count": 3,
   "id": "4d9ba0aa",
   "metadata": {},
   "outputs": [],
   "source": [
    "multiplier = MatrixMultiplier()\n",
    "output = multiplier(torch.randn(3, 4), torch.randn(4, 5))"
   ]
  },
  {
   "cell_type": "code",
   "execution_count": 4,
   "id": "278f25c9",
   "metadata": {},
   "outputs": [
    {
     "data": {
      "text/plain": [
       "tensor([[ 1.2933, -0.9995, -0.7284, -2.2756,  4.2825],\n",
       "        [-1.2410,  0.6900,  1.4711,  1.6443, -2.9097],\n",
       "        [ 2.7384, -1.5616,  1.0299, -0.1879,  4.4225]])"
      ]
     },
     "execution_count": 4,
     "metadata": {},
     "output_type": "execute_result"
    }
   ],
   "source": [
    "output"
   ]
  },
  {
   "cell_type": "code",
   "execution_count": null,
   "id": "e77e224f",
   "metadata": {},
   "outputs": [],
   "source": []
  }
 ],
 "metadata": {
  "kernelspec": {
   "display_name": "Python 3 (ipykernel)",
   "language": "python",
   "name": "python3"
  },
  "language_info": {
   "codemirror_mode": {
    "name": "ipython",
    "version": 3
   },
   "file_extension": ".py",
   "mimetype": "text/x-python",
   "name": "python",
   "nbconvert_exporter": "python",
   "pygments_lexer": "ipython3",
   "version": "3.9.13"
  }
 },
 "nbformat": 4,
 "nbformat_minor": 5
}
